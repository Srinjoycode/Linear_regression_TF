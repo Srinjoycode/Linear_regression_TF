{
 "cells": [
  {
   "cell_type": "markdown",
   "metadata": {},
   "source": [
    "## Linear Regression from scratch in tensorflow"
   ]
  },
  {
   "cell_type": "code",
   "execution_count": 2,
   "metadata": {},
   "outputs": [],
   "source": [
    "# import the required libs\n",
    "import tensorflow as tf\n",
    "import numpy"
   ]
  },
  {
   "cell_type": "markdown",
   "metadata": {},
   "source": [
    "## Creating a sample Database"
   ]
  },
  {
   "cell_type": "code",
   "execution_count": 3,
   "metadata": {
    "tags": []
   },
   "outputs": [
    {
     "output_type": "stream",
     "name": "stdout",
     "text": "tf.Tensor([0. 1. 2. 3. 4. 5. 6. 7. 8. 9.], shape=(10,), dtype=float32)\ntf.Tensor([10. 12. 14. 16. 18. 20. 22. 24. 26. 28.], shape=(10,), dtype=float32)\n"
    }
   ],
   "source": [
    "#training Dataset\n",
    "X=tf.constant(range(10),dtype=tf.float32)\n",
    "Y=2 * X + 10\n",
    "\n",
    "print(X)\n",
    "print(Y)"
   ]
  },
  {
   "cell_type": "code",
   "execution_count": 4,
   "metadata": {
    "tags": []
   },
   "outputs": [
    {
     "output_type": "stream",
     "name": "stdout",
     "text": "tf.Tensor([10. 11. 12. 13. 14. 15. 16. 17. 18. 19.], shape=(10,), dtype=float32)\ntf.Tensor([30. 32. 34. 36. 38. 40. 42. 44. 46. 48.], shape=(10,), dtype=float32)\n"
    }
   ],
   "source": [
    "#testing dataset \n",
    "X_test=tf.constant(range(10,20),dtype=tf.float32)\n",
    "Y_test=2*X_test+10\n",
    "\n",
    "print(X_test)\n",
    "print(Y_test)"
   ]
  },
  {
   "cell_type": "markdown",
   "metadata": {},
   "source": [
    "## Loss function"
   ]
  },
  {
   "cell_type": "code",
   "execution_count": 5,
   "metadata": {},
   "outputs": [],
   "source": [
    "y_mean=Y.numpy().mean()\n",
    "\n",
    "def predict_mean(X):\n",
    "    y_hat=[y_mean] *len(X)\n",
    "    return y_hat\n",
    "    \n",
    "Y_hat=predict_mean(X_test)    "
   ]
  },
  {
   "cell_type": "markdown",
   "metadata": {},
   "source": [
    "### This value for the MSE loss above will give us a baseline to compare how a more complex model is doing"
   ]
  },
  {
   "cell_type": "code",
   "execution_count": 6,
   "metadata": {},
   "outputs": [
    {
     "output_type": "execute_result",
     "data": {
      "text/plain": "33.0"
     },
     "metadata": {},
     "execution_count": 6
    }
   ],
   "source": [
    "\n",
    "errors=(Y_hat-Y)**2\n",
    "loss=tf.reduce_mean(errors)\n",
    "loss.numpy()"
   ]
  },
  {
   "cell_type": "code",
   "execution_count": 7,
   "metadata": {},
   "outputs": [],
   "source": [
    "def loss_mse(X,Y,w0,w1):\n",
    "    Y_hat=w0*X+w1\n",
    "    errors=(Y_hat-Y)**2\n",
    "    return tf.reduce_mean(errors)"
   ]
  },
  {
   "cell_type": "markdown",
   "metadata": {},
   "source": [
    "## Compute Gradients"
   ]
  },
  {
   "cell_type": "code",
   "execution_count": 8,
   "metadata": {},
   "outputs": [],
   "source": [
    "def compute_gradients(X,Y,w0,w1):\n",
    "    with tf.GradientTape() as tape:\n",
    "        loss=loss_mse(X,Y,w0,w1)\n",
    "    return tape.gradient(loss,[w0,w1])\n"
   ]
  },
  {
   "cell_type": "code",
   "execution_count": 13,
   "metadata": {},
   "outputs": [],
   "source": [
    "w0=tf.Variable(0.0)\n",
    "w1=tf.Variable(0.0)\n",
    "dw0,dw1=compute_gradients(X,Y,w0,w1)"
   ]
  },
  {
   "cell_type": "code",
   "execution_count": 15,
   "metadata": {
    "tags": []
   },
   "outputs": [
    {
     "output_type": "stream",
     "name": "stdout",
     "text": "STEP 0- loss:35.70719528198242,w0:4.079999923706055,w1:0.7599999904632568\n\nSTEP 100- loss:2.6017532348632812,w0:2.4780430793762207,w1:7.002389907836914\n\nSTEP 200- loss:0.26831889152526855,w0:2.153517961502075,w1:9.037351608276367\n\nSTEP 300- loss:0.027671903371810913,w0:2.0493006706237793,w1:9.690855979919434\n\nSTEP 400- loss:0.0028539239428937435,w0:2.0158326625823975,w1:9.90071964263916\n\nSTEP 500- loss:0.0002943490108009428,w0:2.005084753036499,w1:9.96811580657959\n\nSTEP 600- loss:3.0356444767676294e-05,w0:2.0016329288482666,w1:9.989760398864746\n\nSTEP 700- loss:3.1322738323069643e-06,w0:2.0005245208740234,w1:9.996710777282715\n\nSTEP 800- loss:3.2238213520940917e-07,w0:2.0001683235168457,w1:9.998944282531738\n\nSTEP 900- loss:3.369950718479231e-08,w0:2.000054359436035,w1:9.999658584594727\n\nSTEP 1000- loss:3.6101481803996194e-09,w0:2.0000178813934326,w1:9.99988842010498\n\n"
    }
   ],
   "source": [
    "STEPS=1000\n",
    "LEARNING_RATE=0.02\n",
    "MSG='STEP {step}- loss:{loss},w0:{w0},w1:{w1}\\n'\n",
    "w0=tf.Variable(0.0)\n",
    "w1=tf.Variable(0.0)\n",
    "for step in range(0,STEPS+1):\n",
    "    dw0,dw1=compute_gradients(X,Y,w0,w1)\n",
    "    w0.assign_sub(dw0*LEARNING_RATE)\n",
    "    w1.assign_sub(dw1*LEARNING_RATE)\n",
    "\n",
    "    if step%100 ==0:\n",
    "        loss=loss_mse(X,Y,w0,w1)\n",
    "        print(MSG.format(step=step,loss=loss,w0=w0.numpy(),w1=w1.numpy()))\n",
    "        \n",
    "\n",
    "        \n"
   ]
  },
  {
   "cell_type": "code",
   "execution_count": 16,
   "metadata": {},
   "outputs": [
    {
     "output_type": "execute_result",
     "data": {
      "text/plain": "2.4563633e-08"
     },
     "metadata": {},
     "execution_count": 16
    }
   ],
   "source": [
    "loss=loss_mse(X_test,Y_test,w0,w1)\n",
    "loss.numpy()"
   ]
  },
  {
   "cell_type": "code",
   "execution_count": null,
   "metadata": {},
   "outputs": [],
   "source": []
  }
 ],
 "metadata": {
  "kernelspec": {
   "display_name": "Python 3.7.6 64-bit ('base': conda)",
   "language": "python",
   "name": "python_defaultSpec_1599204318752"
  },
  "language_info": {
   "codemirror_mode": {
    "name": "ipython",
    "version": 3
   },
   "file_extension": ".py",
   "mimetype": "text/x-python",
   "name": "python",
   "nbconvert_exporter": "python",
   "pygments_lexer": "ipython3",
   "version": "3.7.6-final"
  }
 },
 "nbformat": 4,
 "nbformat_minor": 2
}